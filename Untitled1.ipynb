{
 "cells": [
  {
   "cell_type": "markdown",
   "metadata": {},
   "source": [
    "# chat bot"
   ]
  },
  {
   "cell_type": "code",
   "execution_count": 1,
   "metadata": {},
   "outputs": [
    {
     "name": "stdout",
     "output_type": "stream",
     "text": [
      "Requirement already satisfied: nltk in c:\\users\\user\\anaconda3\\lib\\site-packages (3.5)\n",
      "Requirement already satisfied: regex in c:\\users\\user\\anaconda3\\lib\\site-packages (from nltk) (2020.6.8)\n",
      "Requirement already satisfied: joblib in c:\\users\\user\\anaconda3\\lib\\site-packages (from nltk) (0.16.0)\n",
      "Requirement already satisfied: tqdm in c:\\users\\user\\anaconda3\\lib\\site-packages (from nltk) (4.47.0)\n",
      "Requirement already satisfied: click in c:\\users\\user\\anaconda3\\lib\\site-packages (from nltk) (7.1.2)\n",
      "Note: you may need to restart the kernel to use updated packages.\n"
     ]
    }
   ],
   "source": [
    "pip install nltk\n"
   ]
  },
  {
   "cell_type": "code",
   "execution_count": 2,
   "metadata": {},
   "outputs": [
    {
     "name": "stdout",
     "output_type": "stream",
     "text": [
      "Requirement already satisfied: newspaper3k in c:\\users\\user\\anaconda3\\lib\\site-packages (0.2.8)\n",
      "Requirement already satisfied: cssselect>=0.9.2 in c:\\users\\user\\anaconda3\\lib\\site-packages (from newspaper3k) (1.1.0)\n",
      "Note: you may need to restart the kernel to use updated packages.Requirement already satisfied: jieba3k>=0.35.1 in c:\\users\\user\\anaconda3\\lib\\site-packages (from newspaper3k) (0.35.1)\n",
      "Requirement already satisfied: beautifulsoup4>=4.4.1 in c:\\users\\user\\anaconda3\\lib\\site-packages (from newspaper3k) (4.9.1)\n",
      "Requirement already satisfied: PyYAML>=3.11 in c:\\users\\user\\anaconda3\\lib\\site-packages (from newspaper3k) (5.3.1)\n",
      "Requirement already satisfied: feedparser>=5.2.1 in c:\\users\\user\\anaconda3\\lib\\site-packages (from newspaper3k) (6.0.2)\n",
      "Requirement already satisfied: python-dateutil>=2.5.3 in c:\\users\\user\\anaconda3\\lib\\site-packages (from newspaper3k) (2.8.1)\n",
      "Requirement already satisfied: Pillow>=3.3.0 in c:\\users\\user\\anaconda3\\lib\\site-packages (from newspaper3k) (7.2.0)\n",
      "Requirement already satisfied: requests>=2.10.0 in c:\\users\\user\\anaconda3\\lib\\site-packages (from newspaper3k) (2.24.0)\n",
      "Requirement already satisfied: lxml>=3.6.0 in c:\\users\\user\\anaconda3\\lib\\site-packages (from newspaper3k) (4.5.2)\n",
      "Requirement already satisfied: tldextract>=2.0.1 in c:\\users\\user\\anaconda3\\lib\\site-packages (from newspaper3k) (3.1.0)\n",
      "Requirement already satisfied: tinysegmenter==0.3 in c:\\users\\user\\anaconda3\\lib\\site-packages (from newspaper3k) (0.3)\n",
      "Requirement already satisfied: feedfinder2>=0.0.4 in c:\\users\\user\\anaconda3\\lib\\site-packages (from newspaper3k) (0.0.4)\n",
      "Requirement already satisfied: nltk>=3.2.1 in c:\\users\\user\\anaconda3\\lib\\site-packages (from newspaper3k) (3.5)\n",
      "Requirement already satisfied: soupsieve>1.2 in c:\\users\\user\\anaconda3\\lib\\site-packages (from beautifulsoup4>=4.4.1->newspaper3k) (2.0.1)\n",
      "Requirement already satisfied: sgmllib3k in c:\\users\\user\\anaconda3\\lib\\site-packages (from feedparser>=5.2.1->newspaper3k) (1.0.0)\n",
      "Requirement already satisfied: six>=1.5 in c:\\users\\user\\anaconda3\\lib\\site-packages (from python-dateutil>=2.5.3->newspaper3k) (1.15.0)\n",
      "Requirement already satisfied: certifi>=2017.4.17 in c:\\users\\user\\anaconda3\\lib\\site-packages (from requests>=2.10.0->newspaper3k) (2020.6.20)\n",
      "Requirement already satisfied: idna<3,>=2.5 in c:\\users\\user\\anaconda3\\lib\\site-packages (from requests>=2.10.0->newspaper3k) (2.10)\n",
      "Requirement already satisfied: urllib3!=1.25.0,!=1.25.1,<1.26,>=1.21.1 in c:\\users\\user\\anaconda3\\lib\\site-packages (from requests>=2.10.0->newspaper3k) (1.25.9)\n",
      "Requirement already satisfied: chardet<4,>=3.0.2 in c:\\users\\user\\anaconda3\\lib\\site-packages (from requests>=2.10.0->newspaper3k) (3.0.4)\n",
      "Requirement already satisfied: filelock>=3.0.8 in c:\\users\\user\\anaconda3\\lib\\site-packages (from tldextract>=2.0.1->newspaper3k) (3.0.12)\n",
      "Requirement already satisfied: requests-file>=1.4 in c:\\users\\user\\anaconda3\\lib\\site-packages (from tldextract>=2.0.1->newspaper3k) (1.5.1)\n",
      "Requirement already satisfied: click in c:\\users\\user\\anaconda3\\lib\\site-packages (from nltk>=3.2.1->newspaper3k) (7.1.2)\n",
      "\n",
      "Requirement already satisfied: joblib in c:\\users\\user\\anaconda3\\lib\\site-packages (from nltk>=3.2.1->newspaper3k) (0.16.0)\n",
      "Requirement already satisfied: regex in c:\\users\\user\\anaconda3\\lib\\site-packages (from nltk>=3.2.1->newspaper3k) (2020.6.8)\n",
      "Requirement already satisfied: tqdm in c:\\users\\user\\anaconda3\\lib\\site-packages (from nltk>=3.2.1->newspaper3k) (4.47.0)\n"
     ]
    }
   ],
   "source": [
    "pip install newspaper3k\n"
   ]
  },
  {
   "cell_type": "code",
   "execution_count": 3,
   "metadata": {},
   "outputs": [],
   "source": [
    "from newspaper import Article\n",
    "import random\n",
    "import string\n",
    "import nltk\n",
    "from sklearn.feature_extraction.text import CountVectorizer\n",
    "from sklearn.metrics.pairwise import cosine_similarity\n",
    "import numpy as np\n",
    "import warnings\n",
    "warnings.filterwarnings('ignore')"
   ]
  },
  {
   "cell_type": "code",
   "execution_count": 4,
   "metadata": {},
   "outputs": [
    {
     "data": {
      "text/plain": [
       "True"
      ]
     },
     "execution_count": 4,
     "metadata": {},
     "output_type": "execute_result"
    }
   ],
   "source": [
    "nltk.download('punkt',quiet=True)"
   ]
  },
  {
   "cell_type": "code",
   "execution_count": 5,
   "metadata": {},
   "outputs": [],
   "source": [
    "article = Article('https://www.nidirect.gov.uk/articles/protecting-yourself')\n",
    "article.download()\n",
    "article.parse()\n",
    "article.nlp()\n",
    "corpus = article.text"
   ]
  },
  {
   "cell_type": "code",
   "execution_count": 6,
   "metadata": {},
   "outputs": [
    {
     "name": "stdout",
     "output_type": "stream",
     "text": [
      "When you're at home, out socialising or on holiday, it's important to protect yourself. Don't put yourself in situations where you could be at risk. Be alert, keep your home and belongings secure and always plan your journeys.\n",
      "\n",
      "General advice on staying safe\n",
      "\n",
      "To stay safe when you're out:\n",
      "\n",
      "be aware of what’s going on around you\n",
      "\n",
      "don’t flash your valuables, mobile or money about\n",
      "\n",
      "always plan your journey\n",
      "\n",
      "If you’re withdrawing money from a cash machine, always notice what’s going on around you. Check the machine before you use it and always cover your hand when you’re entering your personal identification number (PIN).\n",
      "\n",
      "Self defence\n",
      "\n",
      "If you see a crime is about to take place or you think that someone is going to commit a crime against you or your home, you should always try to contact the police or call for help before confronting any attacker or person committing a crime.\n",
      "\n",
      "Using reasonable force\n",
      "\n",
      "The law says you can use reasonable force to:\n",
      "\n",
      "protect yourself\n",
      "\n",
      "protect another person\n",
      "\n",
      "prevent a crime\n",
      "\n",
      "But there's no clear definition of what reasonable force is. A court judges the individual circumstances. But if you use force, it's likely the police will investigate your actions.\n",
      "\n",
      "You could be arrested and prosecuted for causing an injury or death. If you are prosecuted, a court will look at the amount of force you used and decide if it was reasonable in the circumstances as you believed them to be at the time.\n",
      "\n",
      "At home\n",
      "\n",
      "When you’re at home, lock doors, close windows and keep keys somewhere they can’t be reached from outside. Always check the ID of any callers you don’t know before answering the door.\n",
      "\n",
      "While you want to do everything you can to protect your belongings, remember they can be replaced, you can’t. There are things you can do to increase the possibility of getting your things back if these are stolen.\n",
      "\n",
      "Out and about at night\n",
      "\n",
      "If you’re out at night, don’t put yourself at risk by drinking too much, going off alone, or leaving with someone you don’t know.\n",
      "\n",
      "You should, always:\n",
      "\n",
      "plan your night\n",
      "\n",
      "know how you’re getting home – book a taxi or ask a friend or family member to pick you up\n",
      "\n",
      "charge your mobile and make sure you have enough credit to make calls\n",
      "\n",
      "keep emergency numbers in your mobile\n",
      "\n",
      "stay with your friends – agree a meeting place in case you get split up\n",
      "\n",
      "stay away from dark streets and alleys – stick to busy areas with plenty of street lights\n",
      "\n",
      "check on your friends - call or text them to make sure they're home safe\n",
      "\n",
      "Carrying a personal alarm can also make you feel safer. When you turn it on, the alarm gives a high-pitched sound that can shock anyone that's attacking you. You can buy a personal alarm in DIY shops.\n",
      "\n",
      "Getting about\n",
      "\n",
      "If you are travelling by yourself, getting a taxi or using public transport is much safer than walking. You should use your common sense to stay safe.\n",
      "\n",
      "Walking\n",
      "\n",
      "Whenever it’s possible, try and walk with someone else or a group of friends. You're less likely to be attacked or mugged if you're with other people.\n",
      "\n",
      "If you are walking alone, always be aware of what's going on around you. Stay in busy areas with plenty of street lights and always avoid alleys or shortcuts.\n",
      "\n",
      "Stay alert if listening to headphones, especially at night. As well as being distracting, headphones could be valuable and worth stealing. Make sure you keep any valuables in your coat or bag.\n",
      "\n",
      "Getting a taxi\n",
      "\n",
      "If you’re getting a taxi, make sure it’s licensed. Keep the number of a taxi company you trust on your mobile. Ask the taxi to pick you up directly outside where you are and stay inside until it arrives. If you have to wait outside, stay in a crowded area with plenty of street lights.\n",
      "\n",
      "If you don’t know any taxi companies in the area, call directory enquiries or go into a shop or restaurant nearby and ask them to call one for you. Always check for the taxi’s licence plate and roof sign. If you don’t feel comfortable, don’t get in.\n",
      "\n",
      "Travelling on public transport\n",
      "\n",
      "Make sure that you get a bus at a stop where other people are waiting. If you are getting a train, wait in an area of the platform with plenty of light where you can see if anyone is approaching you.\n",
      "\n",
      "Once you’re on board, sit where there are plenty of people or next to the driver. If you feel uncomfortable or afraid, speak to the driver. Most trains have emergency alarms. If you get into trouble, don’t be afraid to use them.\n",
      "\n",
      "Protecting yourself on holiday\n",
      "\n",
      "When on holiday it is easy to forget about the things that are home to keep ourselves safe. Before you go and while you’re there, remember to:\n",
      "\n",
      "read the travel advice for the area – look for any areas you should avoid and any particular risks you should be aware of\n",
      "\n",
      "find out about transport in the local area – plan how you’re going to get about\n",
      "\n",
      "never leave your bag, luggage or personal belongings unattended\n",
      "\n",
      "if you’re taking a taxi ask a local for a recommendation or get your hotel to book it for you\n",
      "\n",
      "check public transport times – don’t get caught out on a night out by missing the last train or bus\n",
      "\n",
      "keep your valuables, cash and passport somewhere safe – if you’re in a hotel use your room safe\n",
      "\n",
      "don’t carry around lots of cash – only take what you need for each day or night\n",
      "\n",
      "Don’t accept anything for anyone you don’t know. Be wary of strangers approaching you. If you feel uncomfortable, speak to your holiday rep, hotel, nearest embassy or the local police.\n"
     ]
    }
   ],
   "source": [
    "print(corpus)"
   ]
  },
  {
   "cell_type": "code",
   "execution_count": 7,
   "metadata": {},
   "outputs": [],
   "source": [
    "text = corpus\n",
    "sentence_list=nltk.sent_tokenize(text)"
   ]
  },
  {
   "cell_type": "code",
   "execution_count": 8,
   "metadata": {},
   "outputs": [
    {
     "name": "stdout",
     "output_type": "stream",
     "text": [
      "[\"When you're at home, out socialising or on holiday, it's important to protect yourself.\", \"Don't put yourself in situations where you could be at risk.\", 'Be alert, keep your home and belongings secure and always plan your journeys.', \"General advice on staying safe\\n\\nTo stay safe when you're out:\\n\\nbe aware of what’s going on around you\\n\\ndon’t flash your valuables, mobile or money about\\n\\nalways plan your journey\\n\\nIf you’re withdrawing money from a cash machine, always notice what’s going on around you.\", 'Check the machine before you use it and always cover your hand when you’re entering your personal identification number (PIN).', 'Self defence\\n\\nIf you see a crime is about to take place or you think that someone is going to commit a crime against you or your home, you should always try to contact the police or call for help before confronting any attacker or person committing a crime.', \"Using reasonable force\\n\\nThe law says you can use reasonable force to:\\n\\nprotect yourself\\n\\nprotect another person\\n\\nprevent a crime\\n\\nBut there's no clear definition of what reasonable force is.\", 'A court judges the individual circumstances.', \"But if you use force, it's likely the police will investigate your actions.\", 'You could be arrested and prosecuted for causing an injury or death.', 'If you are prosecuted, a court will look at the amount of force you used and decide if it was reasonable in the circumstances as you believed them to be at the time.', 'At home\\n\\nWhen you’re at home, lock doors, close windows and keep keys somewhere they can’t be reached from outside.', 'Always check the ID of any callers you don’t know before answering the door.', 'While you want to do everything you can to protect your belongings, remember they can be replaced, you can’t.', 'There are things you can do to increase the possibility of getting your things back if these are stolen.', 'Out and about at night\\n\\nIf you’re out at night, don’t put yourself at risk by drinking too much, going off alone, or leaving with someone you don’t know.', \"You should, always:\\n\\nplan your night\\n\\nknow how you’re getting home – book a taxi or ask a friend or family member to pick you up\\n\\ncharge your mobile and make sure you have enough credit to make calls\\n\\nkeep emergency numbers in your mobile\\n\\nstay with your friends – agree a meeting place in case you get split up\\n\\nstay away from dark streets and alleys – stick to busy areas with plenty of street lights\\n\\ncheck on your friends - call or text them to make sure they're home safe\\n\\nCarrying a personal alarm can also make you feel safer.\", \"When you turn it on, the alarm gives a high-pitched sound that can shock anyone that's attacking you.\", 'You can buy a personal alarm in DIY shops.', 'Getting about\\n\\nIf you are travelling by yourself, getting a taxi or using public transport is much safer than walking.', 'You should use your common sense to stay safe.', 'Walking\\n\\nWhenever it’s possible, try and walk with someone else or a group of friends.', \"You're less likely to be attacked or mugged if you're with other people.\", \"If you are walking alone, always be aware of what's going on around you.\", 'Stay in busy areas with plenty of street lights and always avoid alleys or shortcuts.', 'Stay alert if listening to headphones, especially at night.', 'As well as being distracting, headphones could be valuable and worth stealing.', 'Make sure you keep any valuables in your coat or bag.', 'Getting a taxi\\n\\nIf you’re getting a taxi, make sure it’s licensed.', 'Keep the number of a taxi company you trust on your mobile.', 'Ask the taxi to pick you up directly outside where you are and stay inside until it arrives.', 'If you have to wait outside, stay in a crowded area with plenty of street lights.', 'If you don’t know any taxi companies in the area, call directory enquiries or go into a shop or restaurant nearby and ask them to call one for you.', 'Always check for the taxi’s licence plate and roof sign.', 'If you don’t feel comfortable, don’t get in.', 'Travelling on public transport\\n\\nMake sure that you get a bus at a stop where other people are waiting.', 'If you are getting a train, wait in an area of the platform with plenty of light where you can see if anyone is approaching you.', 'Once you’re on board, sit where there are plenty of people or next to the driver.', 'If you feel uncomfortable or afraid, speak to the driver.', 'Most trains have emergency alarms.', 'If you get into trouble, don’t be afraid to use them.', 'Protecting yourself on holiday\\n\\nWhen on holiday it is easy to forget about the things that are home to keep ourselves safe.', 'Before you go and while you’re there, remember to:\\n\\nread the travel advice for the area – look for any areas you should avoid and any particular risks you should be aware of\\n\\nfind out about transport in the local area – plan how you’re going to get about\\n\\nnever leave your bag, luggage or personal belongings unattended\\n\\nif you’re taking a taxi ask a local for a recommendation or get your hotel to book it for you\\n\\ncheck public transport times – don’t get caught out on a night out by missing the last train or bus\\n\\nkeep your valuables, cash and passport somewhere safe – if you’re in a hotel use your room safe\\n\\ndon’t carry around lots of cash – only take what you need for each day or night\\n\\nDon’t accept anything for anyone you don’t know.', 'Be wary of strangers approaching you.', 'If you feel uncomfortable, speak to your holiday rep, hotel, nearest embassy or the local police.']\n"
     ]
    }
   ],
   "source": [
    "print(sentence_list)"
   ]
  },
  {
   "cell_type": "code",
   "execution_count": 9,
   "metadata": {},
   "outputs": [],
   "source": [
    "def greeting_response(text):\n",
    "    text = text.lower()\n",
    "    bot_greetings=['howdy','hi','hey','hola','how can I help?']\n",
    "    user_greetings=['hey','hola','hi','wassaup','hello','greetings']\n",
    "    for word in text.split():\n",
    "        if word in user_greetings:\n",
    "            return random.choice(bot_greetings)"
   ]
  },
  {
   "cell_type": "code",
   "execution_count": 10,
   "metadata": {},
   "outputs": [],
   "source": [
    "def index_sort(list_var):\n",
    "    length = len(list_var)\n",
    "    list_index = list(range(0,length))\n",
    "    \n",
    "    x= list_var\n",
    "    for i in range(length):\n",
    "        for j in range(length):\n",
    "            if x[list_index[i]] > x[list_index[j]]:\n",
    "                temp=list_index[i]\n",
    "                list_index[i]=list_index[j]\n",
    "                list_index[j]= temp\n",
    "                \n",
    "    return list_index"
   ]
  },
  {
   "cell_type": "code",
   "execution_count": 11,
   "metadata": {},
   "outputs": [],
   "source": [
    "def bot_response(user_input):\n",
    "    user_input = user_input.lower()\n",
    "    sentence_list.append(user_input)\n",
    "    bot_response =''\n",
    "    cm = CountVectorizer().fit_transform(sentence_list)\n",
    "    similarity_scores = cosine_similarity(cm[-1],cm)\n",
    "    similarity_scores_list = similarity_scores.flatten()\n",
    "    index = index_sort(similarity_scores_list)\n",
    "    index = index[1:]\n",
    "    response_flag = 0\n",
    "    \n",
    "    j=0\n",
    "    for i in range(len(index)):\n",
    "        if similarity_scores_list[index[1]] > 0.0:\n",
    "            bot_response = bot_response+''+sentence_list[index[i]]\n",
    "            response_flag = 1\n",
    "            j=j+1\n",
    "        if j > 2:\n",
    "            break\n",
    "            \n",
    "        if response_flag == 0:\n",
    "            bot_response = bot_response+''+\"i am sorry,I don't understand\"\n",
    "        \n",
    "        sentence_list.remove(user_input)\n",
    "        \n",
    "        return bot_response\n",
    "        "
   ]
  },
  {
   "cell_type": "code",
   "execution_count": 12,
   "metadata": {
    "scrolled": true
   },
   "outputs": [
    {
     "name": "stdout",
     "output_type": "stream",
     "text": [
      "Bot Police:I am bot Police. I am here to guide you on what to if you are in danger\n",
      "hi\n",
      "Bot Police:howdy\n",
      "hello\n",
      "Bot Police:howdy\n",
      "greetings\n",
      "Bot Police:hey\n",
      "someone following me\n",
      "Bot Police:Walking\n",
      "\n",
      "Whenever it’s possible, try and walk with someone else or a group of friends.\n",
      "measures while travelling on public transport\n",
      "Bot Police:Travelling on public transport\n",
      "\n",
      "Make sure that you get a bus at a stop where other people are waiting.\n",
      "saw a crime happening\n",
      "Bot Police:Self defence\n",
      "\n",
      "If you see a crime is about to take place or you think that someone is going to commit a crime against you or your home, you should always try to contact the police or call for help before confronting any attacker or person committing a crime.\n",
      "ok\n",
      "chat with you later\n"
     ]
    }
   ],
   "source": [
    "#start the chat\n",
    "print('Bot Police:I am bot Police. I am here to guide you on what to if you are in danger')\n",
    "exit_list = ['exit','see you later','bye','quit','break','ok']\n",
    "while(True):\n",
    "    user_input= input()\n",
    "    if user_input.lower() in exit_list:\n",
    "        print('chat with you later')\n",
    "        break\n",
    "    else:\n",
    "        if greeting_response(user_input) != None:\n",
    "            print('Bot Police:'+greeting_response(user_input))\n",
    "        else:\n",
    "            print('Bot Police:'+bot_response(user_input))"
   ]
  },
  {
   "cell_type": "code",
   "execution_count": null,
   "metadata": {},
   "outputs": [],
   "source": []
  }
 ],
 "metadata": {
  "kernelspec": {
   "display_name": "Python 3",
   "language": "python",
   "name": "python3"
  },
  "language_info": {
   "codemirror_mode": {
    "name": "ipython",
    "version": 3
   },
   "file_extension": ".py",
   "mimetype": "text/x-python",
   "name": "python",
   "nbconvert_exporter": "python",
   "pygments_lexer": "ipython3",
   "version": "3.8.3"
  }
 },
 "nbformat": 4,
 "nbformat_minor": 4
}
